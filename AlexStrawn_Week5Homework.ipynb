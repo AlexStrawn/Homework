{
 "cells": [
  {
   "cell_type": "markdown",
   "metadata": {},
   "source": [
    "# **_WEEK 5 HOMEWORK (NUMPY AND PANDAS)_**"
   ]
  },
  {
   "cell_type": "markdown",
   "metadata": {},
   "source": [
    "### **Questions**\n",
    "\n",
    "1. What does Pandas stand for?\n",
    "2. What are the 2 collections used in Pandas?\n",
    "3. Name 4 things Pandas can do for us.\n",
    "4. To permanently sort a DataFrame, which keyword should one use with the `df.sort()` method?\n",
    "5. What is a CSV?\n",
    "6. When cleaning data what values do we not like in our data?"
   ]
  },
  {
   "cell_type": "markdown",
   "metadata": {},
   "source": [
    "### _Answers_\n",
    "\n",
    "1. Stands for either:\n",
    "    * _Panel Data_\n",
    "    * _Python Data Analysis_\n",
    "2. The two collections are:\n",
    "    * _NumPy_\n",
    "    * _DataFrames_\n",
    "3. 4 Things Pandas can do for us:\n",
    "   1. Data Cleansing\n",
    "   2. Data normalization\n",
    "   3. Data visualization\n",
    "   4. Data inspection\n",
    "4. ???\n",
    "5. Comma Separated Values file\n",
    "6. Null values"
   ]
  },
  {
   "cell_type": "code",
   "execution_count": 21,
   "metadata": {},
   "outputs": [
    {
     "name": "stdout",
     "output_type": "stream",
     "text": [
      "[[[ 1  2]\n",
      "  [ 3  4]\n",
      "  [ 5  6]]\n",
      "\n",
      " [[ 7  8]\n",
      "  [ 9 10]\n",
      "  [11 12]]]\n"
     ]
    }
   ],
   "source": [
    "# 7. Import NumPy, use one of the NumPy methods and create an array with a shape of (2, 3, 2). \n",
    "#    You can use the reshape method -- `.reshape()`\n",
    "\n",
    "import numpy as np\n",
    "\n",
    "# Originally did arr = arange(1,13) to create my array but I could not get #12 to work correctly without creating the array like this... (see question 12 for more details) \n",
    "arr = np.array([[1,2,3],[4,5,6],[7,8,9],[10,11,12]])\n",
    "rarr = arr.reshape(2,3,2)\n",
    "print(rarr)\n"
   ]
  },
  {
   "cell_type": "code",
   "execution_count": 20,
   "metadata": {},
   "outputs": [
    {
     "name": "stdout",
     "output_type": "stream",
     "text": [
      "[ 0.  4.  8. 12. 16. 20.]\n"
     ]
    }
   ],
   "source": [
    "# 8. Use NumPy `.linspace()` to create an array with 6 linearly spaced values between 0 and 20.\n",
    "\n",
    "lint = np.linspace(0,20, num=6)\n",
    "print(lint)"
   ]
  },
  {
   "cell_type": "code",
   "execution_count": 19,
   "metadata": {},
   "outputs": [
    {
     "name": "stdout",
     "output_type": "stream",
     "text": [
      "[ 0.  4.  8. 12. 16. 20.]\n"
     ]
    }
   ],
   "source": [
    "# 9. Make a Deep Copy of the above array\n",
    "import copy\n",
    "\n",
    "lintball = copy.deepcopy(lint)\n",
    "print(lintball)"
   ]
  },
  {
   "cell_type": "code",
   "execution_count": 18,
   "metadata": {},
   "outputs": [
    {
     "name": "stdout",
     "output_type": "stream",
     "text": [
      "Array a is...  [[25, 16]]\n",
      "Array b is...  [[11, 2], [13, 4]]\n",
      "Array c is...  [[7, 81], [5, 6], [11, 12]]\n",
      "\n",
      "newArray is...  \n",
      " [[25 16]\n",
      " [11  2]\n",
      " [13  4]\n",
      " [ 7 81]\n",
      " [ 5  6]\n",
      " [11 12]]\n"
     ]
    }
   ],
   "source": [
    "# 10. Concatenate these 3 arrays into a new array named 'newArray'...\n",
    "# ([[25, 16]])\n",
    "# ([[11, 2], [13, 4]])\n",
    "# ([[7, 81], [5, 6], [11, 12]])\n",
    "\n",
    "a = ([[25, 16]])\n",
    "b = ([[11, 2], [13, 4]])\n",
    "c = ([[7, 81], [5, 6], [11, 12]])\n",
    "\n",
    "newArray = np.concatenate((a,b,c))\n",
    "\n",
    "print(\"Array a is... \", a)\n",
    "print(\"Array b is... \", b)\n",
    "print(\"Array c is... \", c)\n",
    "print(\"\\nnewArray is... \", \"\\n\", newArray)\n"
   ]
  },
  {
   "cell_type": "code",
   "execution_count": 17,
   "metadata": {},
   "outputs": [
    {
     "name": "stdout",
     "output_type": "stream",
     "text": [
      "The Sorted Array now looks like this:  \n",
      " [[16 25]\n",
      " [ 2 11]\n",
      " [ 4 13]\n",
      " [ 7 81]\n",
      " [ 5  6]\n",
      " [11 12]]\n"
     ]
    }
   ],
   "source": [
    "# 11. Sort 'newArray' in order into 'sortedArray'\n",
    "\n",
    "sortedArray = np.sort(newArray)\n",
    "print(\"The Sorted Array now looks like this: \", \"\\n\", sortedArray)"
   ]
  },
  {
   "cell_type": "code",
   "execution_count": 22,
   "metadata": {},
   "outputs": [
    {
     "name": "stdout",
     "output_type": "stream",
     "text": [
      "[1 2 3]\n",
      "[4 5 6]\n",
      "[7 8 9]\n",
      "[10 11 12]\n"
     ]
    }
   ],
   "source": [
    "# 12. Unpack the array tuples from the above 'reshapedArray'  into 4 well named variables. Print the 4 variables.\n",
    "\n",
    "# I tried this with the reshaped array from #7 (im assuming this is the reshaped array it is asking for) but it would not work since the reshaped array has a shape of (2,3,2)\n",
    "# so I made the original array into a 4x3 shape so that I could assign 4 variables to the array. I am not sure if the question is worded incorrectly or maybe \n",
    "# I was just missing something, I am not sure. \n",
    "\n",
    "v1,v2,v3,v4 = arr\n",
    "print(v1)\n",
    "print(v2)\n",
    "print(v3)\n",
    "print(v4)"
   ]
  },
  {
   "cell_type": "code",
   "execution_count": 30,
   "metadata": {},
   "outputs": [
    {
     "name": "stdout",
     "output_type": "stream",
     "text": [
      "[ 0  1  2  3  4  5  6  7 10 11 12 13 14 15 16 17 20 21 22 23 24 25 26 27]\n"
     ]
    }
   ],
   "source": [
    "# 13. Combine and sort the following arrays into one called 'comboArray' ...\n",
    "# one = ([10, 11, 12, 13, 14, 15, 16, 17])\n",
    "# two = ([20, 21, 22, 23, 24, 25, 26, 27])\n",
    "# three = ([ 0, 1, 2, 3, 4, 5, 6, 7])\n",
    "\n",
    "one = np.array([10, 11, 12, 13, 14, 15, 16, 17])\n",
    "two = np.array([20, 21, 22, 23, 24, 25, 26, 27])\n",
    "three = np.array([ 0, 1, 2, 3, 4, 5, 6, 7])\n",
    "\n",
    "comboArray = np.sort(np.concatenate((one, two, three)))\n",
    "print(comboArray)\n"
   ]
  },
  {
   "cell_type": "code",
   "execution_count": 40,
   "metadata": {},
   "outputs": [
    {
     "name": "stdout",
     "output_type": "stream",
     "text": [
      "1\n",
      "[ 2  3  4  5  6  7 10 11 12 13 14 15 16 17 20 21 22 23 24 25 26 27]\n",
      "[ 3  4  5  6  7 10 11 12 13 14 15]\n",
      "[22 23 24 25 26 27]\n",
      "[ 0  1  2  3  4  5  6  7 10 11 12 13 14 15]\n",
      "[20 22 24 26]\n",
      "[27 22 15 10  3]\n"
     ]
    }
   ],
   "source": [
    "# 14. Take 'comboArray' and perform the following slicing activities:\n",
    "#     - print sec1 - the 2nd element\n",
    "#     - print sec2 - all elements from the 3rd element to the last\n",
    "#     - print sec3 - all elements from the 4th to the 14th elements\n",
    "#     - print sec4 - the last 6 elements\n",
    "#     - print sec5 - all element from #0 up to and including #15, using the negative number method, i.e. taking a section from the end.\n",
    "#     - print sec6 - from #20 every even element to the end\n",
    "#     - print sec7 - from the last element moving forward, every 5th element.\n",
    "\n",
    "print(comboArray[1]) #sec1\n",
    "print(comboArray[2:]) #sec2\n",
    "print(comboArray[3:14]) #sec3\n",
    "print(comboArray[-6:]) #sec4\n",
    "print(comboArray[-24:-10]) #sec5\n",
    "print(comboArray[-8::2]) #sec6\n",
    "print(comboArray[::-5]) #sec7\n"
   ]
  },
  {
   "cell_type": "code",
   "execution_count": null,
   "metadata": {},
   "outputs": [],
   "source": [
    "# 15. Using `Series`, create a `DataFrame` that looks like this:\n",
    "# | Ingredients | Quantity | Unit |\n",
    "#     |----|----|----|\n",
    "#     | Flour | 4 | cups |\n",
    "#     | Milk | 1 | cup |\n",
    "#     | Eggs | 2 | large |\n",
    "#     | Spam | 1 | can |\n"
   ]
  },
  {
   "cell_type": "code",
   "execution_count": null,
   "metadata": {},
   "outputs": [],
   "source": [
    "# 16. Take this data and create a DataFrame named studentData\n",
    "# {'Name': ['Jai', 'janusha', 'Gaurav', 'Anuj'],\n",
    "#             'Height': [5.1, 6.2, 5.1, 5.2],\n",
    "#             'Qualification': ['Msc', 'MA', 'Msc', 'Msc'],\n",
    "#             'address': ['Delhi', 'Doha', 'Chennai', 'Dakhar'],\n",
    "#             'Age': [21, 23, 24, 21],\n",
    "#             'Pets': ['Dog', 'Bunny', 'Chinchilla', 'Parrot'],\n",
    "#             'sport': ['Darts', 'Basketball', 'PaddleBoarding', 'Cricket']\n",
    "#         }\n",
    "\n"
   ]
  }
 ],
 "metadata": {
  "kernelspec": {
   "display_name": "Python 3",
   "language": "python",
   "name": "python3"
  },
  "language_info": {
   "codemirror_mode": {
    "name": "ipython",
    "version": 3
   },
   "file_extension": ".py",
   "mimetype": "text/x-python",
   "name": "python",
   "nbconvert_exporter": "python",
   "pygments_lexer": "ipython3",
   "version": "3.11.4"
  },
  "orig_nbformat": 4
 },
 "nbformat": 4,
 "nbformat_minor": 2
}
