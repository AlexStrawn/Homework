{
 "cells": [
  {
   "cell_type": "markdown",
   "metadata": {},
   "source": [
    "# Week 4 Homework"
   ]
  },
  {
   "cell_type": "markdown",
   "metadata": {},
   "source": [
    "### __Questions__\n",
    "<small>\n",
    "\n",
    " 1. What does one need to do to use a module?\n",
    " 2. Name a Module (not the DateTime Nodule) we looked at and write a line or 2 of code as an example using this module.\n",
    " 3. What is a benefit of using Exception handling?\n",
    " 4. what are the 4 components used for Python Exception Handling?\n",
    " 5. NumPy arrays are like what Python data type?\n",
    " 6. What is one of the main benefits of using NumPy arrays.\n",
    " 7. What is one of the main requirements about the 'dtype' of NumPy arrays?\n",
    " 8. Of the 10 uses of NumPy, name 2.\n",
    " 9.  Name one of the other libraries we'll use with NumPy?\n",
    " 10. What is the shape of NumPy arrays?\n",
    " 11. What is a Tensor?\n",
    " 12. Name a reason why it's better using NumPy for Data Analysis than using a Python List?\n",
    " 13. When creating an \"empty\" array, where do the elements come from? "
   ]
  },
  {
   "cell_type": "markdown",
   "metadata": {},
   "source": [
    "### *Answers*\n",
    "\n",
    "1. You must import a module in oder to use it in your code.\n",
    "2. The random module looks something like this:\n",
    "```python\n",
    "        import random \n",
    "        a = random.randrange(1,21)\n",
    "        print(a)\n",
    "```\n",
    "3. One benefit is that if there is an Error in your try block, it will skip it and execute the except block.\n",
    "4. Try, Except, Else, Finally\n",
    "5. NumPy arrays are similar to lists in Python.\n",
    "6. One of the main benefits of using NumPy array is it is faster.\n",
    "7. The names and format keys are required.\n",
    "8. Searching, sorting, and counting; Mathematical Operations\n",
    "9.  matplotlib\n",
    "10. Multidimensional\n",
    "11. A Tensor is an array with 3 Dimensions.\n",
    "12. It uses less memory than a list. \n",
    "13. The initial content is random and depends on the state of the memory."
   ]
  },
  {
   "cell_type": "markdown",
   "metadata": {},
   "source": [
    "##### <ins>__Flow Control Methods:__<ins>"
   ]
  },
  {
   "cell_type": "code",
   "execution_count": null,
   "metadata": {},
   "outputs": [],
   "source": [
    "#Question 1\n",
    "age = 25\n",
    "\n",
    "if age >= 25:\n",
    "    print(\"Renting a car is more affordable.\")\n",
    "else:\n",
    "    print(\"Renting a car is very expensive.\")"
   ]
  },
  {
   "cell_type": "code",
   "execution_count": null,
   "metadata": {},
   "outputs": [],
   "source": [
    "#Question 2\n",
    "age = 24\n",
    "\n",
    "if age >= 25:\n",
    "    print(\"Renting a car is more affordable.\")\n",
    "elif age < 25 and age >= 18:\n",
    "    print(\"Renting a car is very expensive.\")\n",
    "else:\n",
    "    print(\"You cannot legally rent a car\")\n"
   ]
  },
  {
   "cell_type": "code",
   "execution_count": null,
   "metadata": {},
   "outputs": [],
   "source": [
    "#Question 3\n",
    "x = \"The quick brown fox jumps over the lazy dog\"\n",
    "\n",
    "print(f\"The number of characters in this string is: {len(x)}\")\n",
    "\n",
    "for letter in x:\n",
    "    if letter in 'aeiouAEIOU':\n",
    "        print(letter, end=\", \")"
   ]
  },
  {
   "cell_type": "code",
   "execution_count": null,
   "metadata": {},
   "outputs": [],
   "source": [
    "#Question 4\n",
    "couture = [\"trousers\", \"blouse\", \"bandana\", \"cumber band\", \"blazer\", \"vest\", \"french beret\", \"scarf\", \"stole\"]\n",
    "panettone = {\"cerise\", \"fuchsia\", \"aqua\", \"maple\", \"auburn\", \"burnt sienna\", \"gunmetal blue\", \"Dark Sapphire\"}\n",
    "\n",
    "for x in couture:\n",
    "\tfor y in panettone:\n",
    "\t\tprint(y,x)"
   ]
  },
  {
   "cell_type": "code",
   "execution_count": null,
   "metadata": {},
   "outputs": [],
   "source": [
    "#Question 5\n",
    "sum = 0\n",
    "for i in range(101):\n",
    "    sum = i + sum\n",
    "print(f\"The sum of all the numbers from 1-100 is: {sum}\")"
   ]
  },
  {
   "cell_type": "code",
   "execution_count": null,
   "metadata": {},
   "outputs": [],
   "source": [
    "#Question 6 \n",
    "fruits = [\"apple\", \"banana\", \"cherry\"]\n",
    "\n",
    "print(fruits[1])\n",
    "\n",
    "#Question 7 \n",
    "fruits[0] = \"kiwi\"\n",
    "print(fruits)\n",
    "\n",
    "#Question 8\n",
    "fruits.append(\"orange\")\n",
    "print(fruits)\n",
    "\n",
    "#Question 9\n",
    "fruits.insert(1, \"lemon\")\n",
    "print(fruits)\n",
    "\n",
    "#Question 10\n",
    "fruits.remove(\"banana\")\n",
    "print(fruits)"
   ]
  },
  {
   "cell_type": "code",
   "execution_count": null,
   "metadata": {},
   "outputs": [],
   "source": [
    "#Questions 11 - 14 uses a different list so I seperated them to make it easier \n",
    "#Question 11\n",
    "fruits1 = [\"apple\", \"banana\", \"cherry\", \"orange\", \"kiwi\", \"melon\", \"mango\"]\n",
    "\n",
    "print(fruits1[-3])\n",
    "print(fruits1[-2])\n",
    "#originally did \"print(fruits1[-3:-1])\" ..\n",
    "#wasnt sure which way to do it because question 12 asks for range of indexes while this question asks for negative indexing\n",
    "\n",
    "#Question 12\n",
    "print(fruits1[2:5])\n",
    "\n",
    "#Question 13\n",
    "print(len(fruits1))\n",
    "\n",
    "#Question 14\n",
    "fruits1.sort(reverse = True)\n",
    "print(fruits1)\n"
   ]
  },
  {
   "cell_type": "code",
   "execution_count": null,
   "metadata": {},
   "outputs": [],
   "source": [
    "# Question 15\n",
    "import datetime as dt\n",
    "\n",
    "x = dt.datetime.now()\n",
    "print(x)\n",
    "\n",
    "print(f'The current Month is: {x.strftime(\"%B\")}')"
   ]
  },
  {
   "cell_type": "code",
   "execution_count": null,
   "metadata": {},
   "outputs": [],
   "source": [
    "# Question 16\n",
    "\n",
    "def nameDay(name, day = \"Sunday\"):\n",
    "    print(f'Hi {name}! Happy {day}!')\n",
    "\n",
    "nameDay(\"Alex\", \"Friday\")\n",
    "nameDay('Shelby')\n"
   ]
  },
  {
   "cell_type": "code",
   "execution_count": null,
   "metadata": {},
   "outputs": [],
   "source": [
    "# Question 17\n",
    "\n",
    "list = [1, 2, 3]\n",
    "\n",
    "try: \n",
    "    print(list[7])\n",
    "except IndexError:\n",
    "    print(\"There is nothing in the selected index!\")\n",
    "else:\n",
    "    print(\"Nothing went wrong\")\n",
    "finally:\n",
    "    print(\"'Try except' is now complete\")"
   ]
  }
 ],
 "metadata": {
  "kernelspec": {
   "display_name": "Python 3",
   "language": "python",
   "name": "python3"
  },
  "language_info": {
   "codemirror_mode": {
    "name": "ipython",
    "version": 3
   },
   "file_extension": ".py",
   "mimetype": "text/x-python",
   "name": "python",
   "nbconvert_exporter": "python",
   "pygments_lexer": "ipython3",
   "version": "3.11.4"
  },
  "orig_nbformat": 4
 },
 "nbformat": 4,
 "nbformat_minor": 2
}
