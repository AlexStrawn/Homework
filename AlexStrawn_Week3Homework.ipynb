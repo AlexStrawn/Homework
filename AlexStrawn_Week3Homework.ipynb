{
 "cells": [
  {
   "cell_type": "markdown",
   "metadata": {},
   "source": [
    "# Section 03 Homework\n",
    "\n",
    "### Questions\n",
    "1. What is an algorithm?\n",
    "2. Variable names may not start with certain characters - name two.\n",
    "2. What is a Semantic error?\n",
    "3. What is the #1 rule of coding / debugging?\n",
    "4. List 5 Python reserved words.\n",
    "\n",
    "### Answers\n",
    "1. An Algorithm is a series of steps to solve a problem at hand.\n",
    "2. Variables can not start with numbers or special characters other than an underscore (_)\n",
    "3. A Semantic Error occurs when code is grammatically correct but doesn't make any sense; it does not produce the expected results\n",
    "4. The #1 Rule: Complexity is the enemy of efficiency!\n",
    "5. or, global, def, TRUE, and assert."
   ]
  },
  {
   "cell_type": "markdown",
   "metadata": {},
   "source": [
    "### Data Types HW"
   ]
  },
  {
   "cell_type": "code",
   "execution_count": 9,
   "metadata": {},
   "outputs": [
    {
     "name": "stdout",
     "output_type": "stream",
     "text": [
      "9\n",
      "m\n",
      "ing Data Analytics \n",
      "Yes, 'Python' is present\n",
      "Hi my name is Alex, I am 6'0 tall and 25 years old today.\n",
      "25.0\n"
     ]
    }
   ],
   "source": [
    "# 6\n",
    "\"\"\" Hello my name is Alex.\n",
    "My favorite food is a cheeseburger.\n",
    "My dream job is a sports analyst for the University of South Carolina football. \"\"\"\n",
    "\n",
    "#7\n",
    "a = \"submarine\"\n",
    "b = 5 \n",
    "c = 5.5487538\n",
    "d = [\"Peru\", \"Canada\", \"United States\", \"Germany\"]\n",
    "e = (\"soccer\", \"baseball\", \"football\", \"hockey\")\n",
    "print(len(a))\n",
    "print(a[3])\n",
    "\n",
    "#8\n",
    "savvy = \"Learning Data Analytics and Python is Awesome!\"\n",
    "print(savvy[5:24])\n",
    "new_savvy = savvy.replace(\"Awesome\", \"great\")\n",
    "if \"Python\" in savvy:\n",
    "    print(\"Yes, 'Python' is present\")\n",
    "\n",
    "\n",
    "\n",
    "#9\n",
    "name, age, length = \"Alex\", 25, \"6'0\"\n",
    "miniBio = f\"Hi my name is {name}, I am {length} tall and {age} years old today.\"\n",
    "print(miniBio)\n",
    "f = float(age)\n",
    "print(f)\n"
   ]
  },
  {
   "cell_type": "markdown",
   "metadata": {},
   "source": [
    "### Complex Data Types HW"
   ]
  },
  {
   "cell_type": "code",
   "execution_count": 6,
   "metadata": {},
   "outputs": [
    {
     "name": "stdout",
     "output_type": "stream",
     "text": [
      "The current length of mylist is: 7\n",
      "[25, 'seven']\n",
      "[25, 'seven', [2, 3, 4], 18.3, 'numbers', 'orange', 'pineapple', 25, 'seven']\n",
      "[1, 2, 3, 4, 5, 6, 7, 8, 9, 10]\n",
      "[1, 2, 3, 4, 5, 6, 7, 8, 9, 10]\n",
      "[1, 2, 3, 4, 5, 6, 7, 8, 9, 10, 1, 2, 3, 4, 5, 6, 7, 8, 9, 10]\n"
     ]
    }
   ],
   "source": [
    "#10 LISTS\n",
    "import copy\n",
    "\n",
    "mylist = [1, \"seven\", [2, 3, 4], 18.3, \"numbers\"]\n",
    "mylist[0] = 25\n",
    "mylist.append(\"orange\")\n",
    "mylist.append(\"pineapple\")\n",
    "print(\"The current length of mylist is:\", len(mylist))\n",
    "\n",
    "new_list = mylist[0:2]\n",
    "print(new_list)\n",
    "\n",
    "mylist.extend(new_list)\n",
    "print(mylist)\n",
    "\n",
    "simList = [1, 5, 4, 2, 9, 7, 6, 10, 3, 8]\n",
    "simList.sort()\n",
    "print(simList)\n",
    "\n",
    "list3 = copy.deepcopy(simList)\n",
    "print(list3)\n",
    "\n",
    "list4 = list3 + simList\n",
    "print(list4)"
   ]
  },
  {
   "cell_type": "code",
   "execution_count": 49,
   "metadata": {},
   "outputs": [
    {
     "name": "stdout",
     "output_type": "stream",
     "text": [
      "The 12th element of bigtup is... 543\n",
      "bigtup sorted now looks like this: [4, 4, 4, 34, 34, 34, 66, 66, 66, 543, 543, 543, 9099, 9099, 9099]\n",
      "(34, 543, 66, 4)\n",
      "34 543 66 4\n",
      "(50,)\n",
      "My second tuple and third tuple combined looks like this: (34, 543, 66, 4, 9099, 34, 543, 66, 4, 9099, 34, 543, 66, 4, 9099, 34, 543, 66, 4)\n"
     ]
    }
   ],
   "source": [
    "#11 TUPLES\n",
    "\n",
    "mytup = (34, 543, 66, 4, 9099)\n",
    "bigtup = mytup * 3\n",
    "print(\"The 12th element of bigtup is...\", bigtup[11])\n",
    "sorted(bigtup)\n",
    "print(\"bigtup sorted now looks like this:\", sorted(bigtup))\n",
    "\n",
    "tup3 = bigtup[0:4]\n",
    "print(tup3)\n",
    "\n",
    "(one, two, three, four) = tup3\n",
    "print(one, two, three, four)\n",
    "\n",
    "single_tup = (50,)\n",
    "print(single_tup)\n",
    "\n",
    "final_tup = bigtup + tup3\n",
    "print(\"My second tuple and third tuple combined looks like this:\", final_tup)\n"
   ]
  },
  {
   "cell_type": "code",
   "execution_count": 10,
   "metadata": {},
   "outputs": [
    {
     "name": "stdout",
     "output_type": "stream",
     "text": [
      "{1, 2, 3, 'oranges', 'banana', 'pineapple'}\n",
      "{'string', 'dryer', 'buffalo'}\n",
      "set()\n",
      "{1, 3, 'string', 'dryer', 'oranges', 'banana', 'Toyota', 'buffalo', 'pineapple'}\n"
     ]
    }
   ],
   "source": [
    "#12 SETS\n",
    "\n",
    "mySet = {1, 2, 3}\n",
    "fruits = [\"oranges\", \"banana\", \"pineapple\"] \n",
    "mySet.update(fruits)\n",
    "print(mySet)\n",
    "mySet.add(\"Toyota\")\n",
    "\n",
    "newSet = {\"baseball\", \"string\", \"buffalo\", \"dryer\"}\n",
    "\n",
    "bothSets = mySet.union(newSet)\n",
    "\n",
    "newSet.pop()\n",
    "print(newSet)\n",
    "\n",
    "mySet.clear()\n",
    "print(mySet)\n",
    "\n",
    "bothSets.discard(2)\n",
    "bothSets.remove(\"baseball\")\n",
    "print(bothSets)"
   ]
  },
  {
   "cell_type": "code",
   "execution_count": 7,
   "metadata": {},
   "outputs": [
    {
     "name": "stdout",
     "output_type": "stream",
     "text": [
      "football\n",
      "dict_keys(['type', 'division', 'sport', 'coach', 'qb', 'color', 'previous coaches'])\n",
      "dict_values(['college', 'NCAA', 'football', 'Shane Beamer', 'Alex Strawn', 'Garnet and Black', ['Will Muschamp', 'Steve Spurier', 'Lou Holtz']])\n",
      "{'type': 'college', 'sport': 'football', 'coach': 'Shane Beamer', 'qb': 'Alex Strawn', 'color': 'Garnet and Black', 'previous coaches': ['Will Muschamp', 'Steve Spurier', 'Lou Holtz']}\n",
      "{}\n"
     ]
    }
   ],
   "source": [
    "#13 DICTIONARIES\n",
    "\n",
    "uscFootball = {\n",
    "    \"type\" : \"college\",\n",
    "    \"division\" : \"NCAA\",\n",
    "    \"sport\" : \"football\",\n",
    "    \"coach\" : \"Shane Beamer\",\n",
    "    \"qb\" : \"Spencer Rattler\"\n",
    "}\n",
    "print(uscFootball[\"sport\"])\n",
    "uscFootball.update({\"qb\" : \"Alex Strawn\",})\n",
    "uscFootball.update({\"color\" : \"Garnet and Black\"})\n",
    "prev_coach = [\"Will Muschamp\", \"Steve Spurier\", \"Lou Holtz\"]\n",
    "uscFootball[\"previous coaches\"] = prev_coach\n",
    "print(uscFootball.keys())\n",
    "print(uscFootball.values())\n",
    "\n",
    "newDict = copy.deepcopy(uscFootball)\n",
    "newDict.pop(\"division\")\n",
    "print(newDict)\n",
    "\n",
    "newDict.clear()\n",
    "print(newDict)\n"
   ]
  }
 ],
 "metadata": {
  "kernelspec": {
   "display_name": "Python 3",
   "language": "python",
   "name": "python3"
  },
  "language_info": {
   "codemirror_mode": {
    "name": "ipython",
    "version": 3
   },
   "file_extension": ".py",
   "mimetype": "text/x-python",
   "name": "python",
   "nbconvert_exporter": "python",
   "pygments_lexer": "ipython3",
   "version": "3.11.4"
  },
  "orig_nbformat": 4
 },
 "nbformat": 4,
 "nbformat_minor": 2
}
