{
 "cells": [
  {
   "cell_type": "markdown",
   "metadata": {},
   "source": [
    "# Section 03 Homework\n",
    "\n",
    "### Questions\n",
    "1. What is an algorithm?\n",
    "2. Variable names may not start with certain characters - name two.\n",
    "2. What is a Semantic error?\n",
    "3. What is the #1 rule of coding / debugging?\n",
    "4. List 5 Python reserved words.\n",
    "\n",
    "### Answers\n",
    "1. An Algorithm is a series of steps to solve a problem at hand.\n",
    "2. Variables can not start with numbers or special characters other than an underscore (_)\n",
    "3. A Semantic Error occurs when code is grammatically correct but doesn't make any sense; it does not produce the expected results\n",
    "4. The #1 Rule: Complexity is the enemy of efficiency!\n",
    "5. or, global, def, TRUE, and assert."
   ]
  },
  {
   "cell_type": "markdown",
   "metadata": {},
   "source": [
    "### Data Types HW"
   ]
  },
  {
   "cell_type": "code",
   "execution_count": 7,
   "metadata": {},
   "outputs": [
    {
     "name": "stdout",
     "output_type": "stream",
     "text": [
      "9\n",
      "m\n",
      "ing Data Analytics \n",
      "Learning Data Analytics and Python is great!\n",
      "Hi my name is Alex, I am 6'0 and 25 years old today.\n",
      "25.0\n"
     ]
    }
   ],
   "source": [
    "# 6\n",
    "# Hello my name is Alex.\n",
    "# My favorite food is a cheeseburger.\n",
    "# My dream job is a sports analyst for the University of South Carolina football.\n",
    "\n",
    "#7\n",
    "a = \"submarine\"\n",
    "b = 5 \n",
    "c = 5.5487538\n",
    "d = [\"Peru\", \"Canada\", \"United States\", \"Germany\"]\n",
    "e = (\"soccer\", \"baseball\", \"football\", \"hockey\")\n",
    "print(len(a))\n",
    "print(a[3])\n",
    "\n",
    "#8\n",
    "savvy = \"Learning Data Analytics and Python is Awesome!\"\n",
    "print(savvy[5:24])\n",
    "new_savvy = savvy.replace(\"Awesome\", \"great\")\n",
    "print(new_savvy)\n",
    "\n",
    "#9\n",
    "name, age, length = \"Alex\", 25, \"6'0\"\n",
    "miniBio = f\"Hi my name is {name}, I am {length} and {age} years old today.\"\n",
    "print(miniBio)\n",
    "f = float(age)\n",
    "print(f)\n"
   ]
  },
  {
   "cell_type": "markdown",
   "metadata": {},
   "source": [
    "### Complex Data Types HW"
   ]
  },
  {
   "cell_type": "code",
   "execution_count": null,
   "metadata": {},
   "outputs": [],
   "source": [
    "#10"
   ]
  }
 ],
 "metadata": {
  "kernelspec": {
   "display_name": "Python 3",
   "language": "python",
   "name": "python3"
  },
  "language_info": {
   "codemirror_mode": {
    "name": "ipython",
    "version": 3
   },
   "file_extension": ".py",
   "mimetype": "text/x-python",
   "name": "python",
   "nbconvert_exporter": "python",
   "pygments_lexer": "ipython3",
   "version": "3.11.4"
  },
  "orig_nbformat": 4
 },
 "nbformat": 4,
 "nbformat_minor": 2
}
